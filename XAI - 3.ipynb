{
  "nbformat": 4,
  "nbformat_minor": 0,
  "metadata": {
    "colab": {
      "name": "Pankti_Untitled3.ipynb",
      "provenance": [],
      "include_colab_link": true
    },
    "kernelspec": {
      "name": "python3",
      "display_name": "Python 3"
    }
  },
  "cells": [
    {
      "cell_type": "markdown",
      "metadata": {
        "id": "view-in-github",
        "colab_type": "text"
      },
      "source": [
        "<a href=\"https://colab.research.google.com/github/panktishah62/Explainable-Artificial-Intelligence-XAI-/blob/master/XAI%20-%203.ipynb\" target=\"_parent\"><img src=\"https://colab.research.google.com/assets/colab-badge.svg\" alt=\"Open In Colab\"/></a>"
      ]
    },
    {
      "cell_type": "markdown",
      "metadata": {
        "id": "rHcqFTOspSQM",
        "colab_type": "text"
      },
      "source": [
        "# Data Explainability: Exploratory Analysis and Visualization (Part 3)\n",
        "\n",
        "\n",
        "As all of us know data visualization has been a major tool for learning meaningful information from data. A few such techniques can help to find the important characteristics and relevant manifestations of data. This can point us to what is potentially influential for the decision- making capacity of a model, which could be easily understood by humans.\n",
        "\n",
        "Hence we have created a small module which covers examples of :\n",
        "\n",
        "\n",
        "\n",
        "*   Confusion matrix\n",
        "*   ROC Curve AUC score\n",
        "*   Mean Absolute Error (MAE)\n",
        "*   Root Mean Squared Error (RMSE)\n",
        "\n",
        "\n",
        "\n",
        "\n",
        "**Let's get started !!**\n",
        "\n",
        "We have used some libraries to make our work easier.\n",
        "\n",
        "**matplotlib** : Matplotlib is a plotting library for the Python programming language and its numerical mathematics extension NumPy.\n",
        "\n",
        "**Numpy**: NumPy provides a high-performance multidimensional array object, and tools for working with these arrays.\n",
        "\n",
        "**Pandas**: Pandas help us to organize data and manipulate the data by putting it in a tabular form.\n",
        "\n",
        "**Scikit Learn (sklearn)**: Scikit-learn is probably the most useful library for machine learning in Python. The sklearn library contains a lot of efficient tools for machine learning and statistical modeling\n",
        "\n",
        "**Seaborn**: Seaborn is a Python data visualization library based on matplotlib. It provides a high-level interface for drawing attractive and informative statistical graphics.\n",
        "\n",
        "More examples can be found on our Github repositories.\n",
        "\n",
        "https://github.com/panktishah62/Machine-Learning-and-Data-Science\n",
        "\n"
      ]
    },
    {
      "cell_type": "markdown",
      "metadata": {
        "id": "yycKrfAX888T",
        "colab_type": "text"
      },
      "source": [
        "# Confusion Matrix:\n",
        "\n",
        "A confusion matrix is a summary of prediction results on a classification problem. The number of correct and incorrect predictions are summarized with count values and broken down by each class. \n",
        "\n",
        "A confusion matrix is a matrix that is often used to describe the performance of a classification model on a set of test data for which the true values are known.\n",
        "\n",
        "Confusion matrix is also used for the comparision of performance between different classification models.It is used for binary classification as well as for multiple class classification.\n",
        "\n",
        "The basic terms of confusion matrix are:\n",
        "\n",
        "1)True positives (TP): These are cases in which we predicted yes (they have the disease), and they do have the disease.\n",
        "\n",
        "2)True negatives (TN): We predicted no, and they don't have the disease.\n",
        "\n",
        "3)False positives (FP): We predicted yes, but they don't actually have the disease. (Also known as a \"Type I error.\")\n",
        "\n",
        "4)False negatives (FN): We predicted no, but they actually do have the disease. (Also known as a \"Type II error.\")\n",
        "\n",
        "\n",
        "The following terms can be calculated from Confusion Matrix:\n",
        "\n",
        "1)Classification Rate or Accuracy of a model is given by the relation:\n",
        "\n",
        "Accuracy = (TP + TN)/(TP + TN + FP + FN)\n",
        "\n",
        "It assumes equal costs for both kinds of errors. A 99% accuracy can be excellent, good, mediocre, poor or terrible depending upon the problem.\n",
        "\n",
        "\n",
        "2)Recall:\n",
        "Recall= TP/(TP + FN)\n",
        "\n",
        "High Recall indicates the class is correctly recognized (a small number of FN).\n",
        "\n",
        "\n",
        "3)Precision:\n",
        "\n",
        "Precision= TP/(TP + FP)\n",
        "\n",
        "High Precision indicates an example labelled as positive is indeed positive (a small number of FP).\n",
        "\n",
        "High recall, low precision: This means that most of the positive examples are correctly recognized (low FN) but there are a lot of false positives.\n",
        "\n",
        "Low recall, high precision: This shows that we miss a lot of positive examples (high FN) but those we predict as positive are indeed positive (low FP)\n",
        "\n",
        "4)F-measure:\n",
        "\n",
        "F-measure= (2*Recall*Precisiom)/(Recall + Precision)\n",
        "\n",
        "F-measure uses Harmonic Mean in place of Arithmetic Mean.The F-Measure will always be nearer to the smaller value of Precision or Recall.\n",
        "\n",
        "The example is given bellow:"
      ]
    },
    {
      "cell_type": "code",
      "metadata": {
        "id": "WOqEMesu87yH",
        "colab_type": "code",
        "colab": {
          "base_uri": "https://localhost:8080/",
          "height": 347
        },
        "outputId": "5c81b4eb-1025-4f41-eeae-2447ddad8728"
      },
      "source": [
        "from sklearn.metrics import confusion_matrix \n",
        "from sklearn.metrics import accuracy_score \n",
        "from sklearn.metrics import classification_report \n",
        "\n",
        "#actual =    [1, 0, 1, 1, 0, 1, 0, 0, 0, 1, 0, 1, 1, 1, 0, 0, 1, 0, 1, 0]       #for 2 class classification\n",
        "#predicted = [0, 0, 1, 1, 1, 0, 0, 0, 0, 1, 1, 1, 0, 1, 0, 1, 1, 0, 1, 0] \n",
        "\n",
        "actual =    [1, 0, 1, 2, 0, 2, 0, 0, 2, 1, 0, 2, 1, 1, 1, 0, 1, 2, 1, 0]        #for 3 class classification  \n",
        "predicted = [0, 0, 1, 2, 1, 0, 0, 0, 2, 1, 1, 1, 0, 1, 2, 1, 1, 2, 1, 0] \n",
        "\n",
        "CM = confusion_matrix(actual, predicted)                                        #confusion matrix\n",
        "\n",
        "AC = accuracy_score(actual, predicted)                                          #accuracy\n",
        "\n",
        "CR = classification_report(actual, predicted)                                   #precision, recall ,F-measure\n",
        "\n",
        "print(\"confusion matrix:\")\n",
        "print(CM)\n",
        "print()\n",
        "print(\"accuracy:\")\n",
        "print(AC)\n",
        "print()\n",
        "print(\"classification report:\")\n",
        "print(CR)"
      ],
      "execution_count": null,
      "outputs": [
        {
          "output_type": "stream",
          "text": [
            "confusion matrix:\n",
            "[[4 3 0]\n",
            " [2 5 1]\n",
            " [1 1 3]]\n",
            "\n",
            "accuracy:\n",
            "0.6\n",
            "\n",
            "classification report:\n",
            "              precision    recall  f1-score   support\n",
            "\n",
            "           0       0.57      0.57      0.57         7\n",
            "           1       0.56      0.62      0.59         8\n",
            "           2       0.75      0.60      0.67         5\n",
            "\n",
            "    accuracy                           0.60        20\n",
            "   macro avg       0.63      0.60      0.61        20\n",
            "weighted avg       0.61      0.60      0.60        20\n",
            "\n"
          ],
          "name": "stdout"
        }
      ]
    },
    {
      "cell_type": "markdown",
      "metadata": {
        "id": "T17F8ktR9N1i",
        "colab_type": "text"
      },
      "source": [
        "# ROC(Receiver Operating Characteristics) curve AUC(Area Under The ROC Curve) score:\n",
        "\n",
        "AUC - ROC curve is used for performance measurement of classification problem at various thresholds settings. ROC is a probability curve and AUC represents the Area Under The Curve.Higher the AUC, better the model is at predictions. It is also used to check or visualize the performance of the multi - class classification problem.\n",
        "\n",
        "The terms used here are:\n",
        "\n",
        "1)TPR (True Positive Rate) / Recall /Sensitivity:\n",
        "\n",
        "TPR = TP/(TP + FN)\n",
        "\n",
        "2)Specificity:\n",
        "\n",
        "Specificity = TN/(TN + FP)\n",
        "\n",
        "3)FPR:\n",
        "\n",
        "FPR = 1-Specificity\n",
        "    = FP/(TN + FP)\n",
        "\n",
        "where TP/TN/FP/FN can be obtained form Confusion matrix.\n",
        "\n",
        "An ROC curve plots TPR vs. FPR at different classification thresholds and essentially separates the ‘signal’ from the ‘noise’. The Area Under the Curve (AUC) is the measure of the ability of a classifier to distinguish between classes and is used as a summary of the ROC curve.\n",
        "\n",
        "The AUC value near to 1 meas it is good model and has good measure of separability.\n",
        "\n",
        "\n",
        "The basic example to draw ROC curve is given below."
      ]
    },
    {
      "cell_type": "code",
      "metadata": {
        "id": "y4VVFJAI9Wjk",
        "colab_type": "code",
        "colab": {
          "base_uri": "https://localhost:8080/",
          "height": 411
        },
        "outputId": "f49e2d9e-73df-4ae9-ece5-b686acbf90dd"
      },
      "source": [
        "import numpy as np\n",
        "from sklearn import metrics\n",
        "y = np.array([1, 1, 2, 2])\n",
        "scores = np.array([0.1, 0.4, 0.35, 0.8])\n",
        "fpr, tpr, thresholds = metrics.roc_curve(y, scores, pos_label=2)\n",
        "\n",
        "from sklearn.metrics import roc_auc_score\n",
        "\n",
        "# auc scores\n",
        "auc_score = roc_auc_score(y, scores)\n",
        "print(auc_score)\n",
        "\n",
        "import matplotlib.pyplot as plt\n",
        "plt.style.use('seaborn')\n",
        "\n",
        "# plot roc curves\n",
        "plt.plot(fpr, tpr, linestyle='--',color='orange')\n",
        "\n",
        "plt.title('ROC curve')\n",
        "# x label\n",
        "plt.xlabel('False Positive Rate')\n",
        "# y label\n",
        "plt.ylabel('True Positive rate')\n",
        "\n",
        "plt.legend(loc='best')\n",
        "plt.savefig('ROC',dpi=300)\n",
        "plt.show();"
      ],
      "execution_count": null,
      "outputs": [
        {
          "output_type": "stream",
          "text": [
            "No handles with labels found to put in legend.\n"
          ],
          "name": "stderr"
        },
        {
          "output_type": "stream",
          "text": [
            "0.75\n"
          ],
          "name": "stdout"
        },
        {
          "output_type": "display_data",
          "data": {
            "image/png": "[encoded data removed]",
            "text/plain": [
              "<Figure size 576x396 with 1 Axes>"
            ]
          },
          "metadata": {
            "tags": []
          }
        }
      ]
    },
    {
      "cell_type": "markdown",
      "metadata": {
        "id": "SUWFBUj39dcW",
        "colab_type": "text"
      },
      "source": [
        "I have taken example of make_classification dataset from sklearn and used two different classification algorithm Logistic Regression and KNeighborsClassifier and drawn ROC of both the model."
      ]
    },
    {
      "cell_type": "code",
      "metadata": {
        "id": "LmVtiLKh9h1j",
        "colab_type": "code",
        "colab": {
          "base_uri": "https://localhost:8080/",
          "height": 393
        },
        "outputId": "b6ef3aba-81e1-4455-b0b6-b2bed37a426c"
      },
      "source": [
        "from sklearn.linear_model import LogisticRegression\n",
        "from sklearn.neighbors import KNeighborsClassifier\n",
        "from sklearn.datasets import make_classification\n",
        "from sklearn.model_selection import train_test_split\n",
        "\n",
        "# generate two class dataset\n",
        "X, y = make_classification()\n",
        "\n",
        "# split into train-test sets\n",
        "X_train, X_test, y_train, y_test = train_test_split(X, y, test_size=0.3, random_state=27)\n",
        "\n",
        "# logistic regression\n",
        "model1 = LogisticRegression()\n",
        "# knn\n",
        "model2 = KNeighborsClassifier(n_neighbors=4)\n",
        "\n",
        "# fit model\n",
        "model1.fit(X_train, y_train)\n",
        "model2.fit(X_train, y_train)\n",
        "\n",
        "# predict probabilities\n",
        "pred_prob1 = model1.predict_proba(X_test)\n",
        "pred_prob2 = model2.predict_proba(X_test)\n",
        "\n",
        "from sklearn.metrics import roc_curve\n",
        "\n",
        "# roc curve for models\n",
        "fpr1, tpr1, thresh1 = roc_curve(y_test, pred_prob1[:,1], pos_label=1)\n",
        "fpr2, tpr2, thresh2 = roc_curve(y_test, pred_prob2[:,1], pos_label=1)\n",
        "\n",
        "# roc curve for tpr = fpr \n",
        "random_probs = [0 for i in range(len(y_test))]\n",
        "p_fpr, p_tpr, _ = roc_curve(y_test, random_probs, pos_label=1)\n",
        "\n",
        "from sklearn.metrics import roc_auc_score\n",
        "\n",
        "# auc scores\n",
        "auc_score1 = roc_auc_score(y_test, pred_prob1[:,1])\n",
        "auc_score2 = roc_auc_score(y_test, pred_prob2[:,1])\n",
        "\n",
        "print(auc_score1, auc_score2)\n",
        "\n",
        "# matplotlib\n",
        "import matplotlib.pyplot as plt\n",
        "plt.style.use('seaborn')\n",
        "\n",
        "# plot roc curves\n",
        "plt.plot(fpr1, tpr1, linestyle='--',color='orange', label='Logistic Regression')\n",
        "plt.plot(fpr2, tpr2, linestyle='--',color='green', label='KNN')\n",
        "plt.plot(p_fpr, p_tpr, linestyle='--', color='blue')\n",
        "# title\n",
        "plt.title('ROC curve')\n",
        "# x label\n",
        "plt.xlabel('False Positive Rate')\n",
        "# y label\n",
        "plt.ylabel('True Positive rate')\n",
        "\n",
        "plt.legend(loc='best')\n",
        "plt.savefig('ROC',dpi=300)\n",
        "plt.show();"
      ],
      "execution_count": null,
      "outputs": [
        {
          "output_type": "stream",
          "text": [
            "0.8080357142857143 0.8258928571428572\n"
          ],
          "name": "stdout"
        },
        {
          "output_type": "display_data",
          "data": {
            "image/png": "[encoded data removed]",
            "text/plain": [
              "<Figure size 576x396 with 1 Axes>"
            ]
          },
          "metadata": {
            "tags": []
          }
        }
      ]
    },
    {
      "cell_type": "markdown",
      "metadata": {
        "id": "tGSgh4stqb99",
        "colab_type": "text"
      },
      "source": [
        "# Mean Absolute Error (MAE):\n",
        "\n",
        "MAE measures the average magnitude of the errors in a set of predictions, without considering their direction. It’s the average over the test sample of the absolute differences between prediction and actual observation where all individual differences have equal weight.\n",
        "\n",
        "![MAE formula](https://miro.medium.com/max/630/1*OVlFLnMwHDx08PHzqlBDag.gif)\n",
        "\n",
        "We may calculate it using:\n",
        "\n",
        "sklearn.metrics.mean_absolute_error(y_true, y_pred, *, sample_weight=None, multioutput='uniform_average') \n",
        "where,\n",
        "\n",
        "multioutputstring in [‘raw_values’, ‘uniform_average’] or array-like of shape (n_outputs)\n",
        "Defines aggregating of multiple output values. Array-like value defines weights used to average errors.\n",
        "\n",
        "‘raw_values’ :\n",
        "Returns a full set of errors in case of multioutput input.\n",
        "\n",
        "‘uniform_average’ :\n",
        "Errors of all outputs are averaged with uniform weight."
      ]
    },
    {
      "cell_type": "code",
      "metadata": {
        "id": "HD3YOpNPt_bS",
        "colab_type": "code",
        "colab": {
          "base_uri": "https://localhost:8080/",
          "height": 34
        },
        "outputId": "6a033de8-b860-4b28-96b7-94cbe4e4dbaa"
      },
      "source": [
        "from sklearn.metrics import mean_absolute_error\n",
        "ytrue = [3, -0.5, 2, 7]\n",
        "ypred = [2.5, 0.0, 2, 8]\n",
        "mean_absolute_error(ytrue, ypred)\n"
      ],
      "execution_count": null,
      "outputs": [
        {
          "output_type": "execute_result",
          "data": {
            "text/plain": [
              "0.5"
            ]
          },
          "metadata": {
            "tags": []
          },
          "execution_count": 8
        }
      ]
    },
    {
      "cell_type": "code",
      "metadata": {
        "id": "9ebvjyFpuHiO",
        "colab_type": "code",
        "colab": {
          "base_uri": "https://localhost:8080/",
          "height": 34
        },
        "outputId": "c8a34068-41c5-48a8-98d9-36a6faed8540"
      },
      "source": [
        "y_true = [[0.5, 1], [-1, 1], [7, -6]]\n",
        "y_pred = [[0, 2], [-1, 2], [8, -5]]\n",
        "mean_absolute_error(y_true, y_pred)"
      ],
      "execution_count": null,
      "outputs": [
        {
          "output_type": "execute_result",
          "data": {
            "text/plain": [
              "0.75"
            ]
          },
          "metadata": {
            "tags": []
          },
          "execution_count": 9
        }
      ]
    },
    {
      "cell_type": "code",
      "metadata": {
        "id": "uTgZBd_HuP3x",
        "colab_type": "code",
        "colab": {
          "base_uri": "https://localhost:8080/",
          "height": 34
        },
        "outputId": "f03e39ca-0e8a-4073-ade8-f3b0df30cdda"
      },
      "source": [
        "mean_absolute_error(y_true, y_pred, multioutput=[0.3, 0.7])\n"
      ],
      "execution_count": null,
      "outputs": [
        {
          "output_type": "execute_result",
          "data": {
            "text/plain": [
              "0.85"
            ]
          },
          "metadata": {
            "tags": []
          },
          "execution_count": 11
        }
      ]
    },
    {
      "cell_type": "markdown",
      "metadata": {
        "id": "ornAZsXOwE_n",
        "colab_type": "text"
      },
      "source": [
        "# Root mean squared error (RMSE):\n",
        "\n",
        "RMSE is a quadratic scoring rule that also measures the average magnitude of the error. It’s the square root of the average of squared differences between prediction and actual observation.\n",
        "\n",
        "![RMSE formula](https://miro.medium.com/max/654/1*9hQVcasuwx5ddq_s3MFCyw.gif)\n",
        "\n",
        "To calculate RMSE in python we will call **sklearn.metrics.mean_squared_error(actual, predicted)** with actual as the actual set of values and predicted as the predicted set of values to compute the mean squared error of the data. Call **math.sqrt(number)** with number as the result of the previous step to get the RMSE of the data."
      ]
    },
    {
      "cell_type": "code",
      "metadata": {
        "id": "0Mdk8O2xx-vD",
        "colab_type": "code",
        "colab": {
          "base_uri": "https://localhost:8080/",
          "height": 34
        },
        "outputId": "a39d4a39-2636-4dac-eb1a-4399b2510e8c"
      },
      "source": [
        "from sklearn.metrics import mean_squared_error\n",
        "import math\n",
        "actual = [0, 1, 2, 0, 3]\n",
        "predicted = [0.1, 1.3, 2.1, 0.5, 3.1]\n",
        "\n",
        "mse = mean_squared_error(actual, predicted)\n",
        "\n",
        "rmse = math.sqrt(mse)\n",
        "\n",
        "print(rmse)"
      ],
      "execution_count": null,
      "outputs": [
        {
          "output_type": "stream",
          "text": [
            "0.2720294101747089\n"
          ],
          "name": "stdout"
        }
      ]
    },
    {
      "cell_type": "code",
      "metadata": {
        "id": "qwaIHALkyiId",
        "colab_type": "code",
        "colab": {
          "base_uri": "https://localhost:8080/",
          "height": 34
        },
        "outputId": "b885d3bb-2a34-419e-aa76-601ba922bf5b"
      },
      "source": [
        "ytrue = [3, -0.5, 2, 7]\n",
        "ypred = [2.5, 0.0, 2, 8]\n",
        "mse = mean_squared_error(ytrue, ypred)\n",
        "\n",
        "rmse = math.sqrt(mse)\n",
        "\n",
        "print(rmse)"
      ],
      "execution_count": null,
      "outputs": [
        {
          "output_type": "stream",
          "text": [
            "0.6123724356957945\n"
          ],
          "name": "stdout"
        }
      ]
    },
    {
      "cell_type": "markdown",
      "metadata": {
        "id": "Dwbj51gMyy_v",
        "colab_type": "text"
      },
      "source": [
        "# Comparison\n",
        "**Similarities**: \n",
        "\n",
        "Both MAE and RMSE express average model prediction error in units of the variable of interest. Both metrics can range from 0 to ∞ and are indifferent to the direction of errors. They are negatively-oriented scores, which means lower values are better.\n",
        "\n",
        "\n",
        "**Differences**: \n",
        "\n",
        "Taking the square root of the average squared errors has some interesting implications for RMSE. Since the errors are squared before they are averaged, the RMSE gives a relatively high weight to large errors. This means the RMSE should be more useful when large errors are particularly undesirable. The three tables below show examples where MAE is steady and RMSE increases as the variance associated with the frequency distribution of error magnitudes also increases."
      ]
    }
  ]
}